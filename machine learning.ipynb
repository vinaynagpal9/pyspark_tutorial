{
 "cells": [
  {
   "cell_type": "code",
   "execution_count": 1,
   "metadata": {
    "collapsed": true
   },
   "outputs": [],
   "source": [
    "import pyspark"
   ]
  },
  {
   "cell_type": "code",
   "execution_count": 2,
   "metadata": {
    "collapsed": true
   },
   "outputs": [],
   "source": [
    "from pyspark.sql import SparkSession"
   ]
  },
  {
   "cell_type": "code",
   "execution_count": 3,
   "metadata": {
    "collapsed": true
   },
   "outputs": [],
   "source": [
    "spark = SparkSession.builder.appName('dodo').getOrCreate()"
   ]
  },
  {
   "cell_type": "code",
   "execution_count": 4,
   "metadata": {
    "collapsed": false
   },
   "outputs": [],
   "source": [
    "df = spark.read.csv('hdfs://localhost:9000/Python/people2.csv',inferSchema=True,header=True)"
   ]
  },
  {
   "cell_type": "code",
   "execution_count": 5,
   "metadata": {
    "collapsed": false
   },
   "outputs": [
    {
     "name": "stdout",
     "output_type": "stream",
     "text": [
      "+----------+------+-----------+------+-------------------+-------+-------+------+------+-------+------+------+-------+-------+-------+-------+-------+-------+-------+-------+-------+-------+-------+-------+-------+-------+-------+-------+-------+-------+-------+-------+-------+-------+-------+-------+-------+-------+-------+-------+-------+\n",
      "| people_id|char_1|    group_1|char_2|               date| char_3| char_4|char_5|char_6| char_7|char_8|char_9|char_10|char_11|char_12|char_13|char_14|char_15|char_16|char_17|char_18|char_19|char_20|char_21|char_22|char_23|char_24|char_25|char_26|char_27|char_28|char_29|char_30|char_31|char_32|char_33|char_34|char_35|char_36|char_37|char_38|\n",
      "+----------+------+-----------+------+-------------------+-------+-------+------+------+-------+------+------+-------+-------+-------+-------+-------+-------+-------+-------+-------+-------+-------+-------+-------+-------+-------+-------+-------+-------+-------+-------+-------+-------+-------+-------+-------+-------+-------+-------+-------+\n",
      "|   ppl_100|type 2|group 17304|type 2|2021-06-29 00:00:00| type 5| type 5|type 5|type 3|type 11|type 2|type 2|   true|  false|  false|   true|   true|  false|   true|  false|  false|  false|  false|   true|  false|  false|  false|  false|  false|   true|   true|  false|   true|   true|  false|  false|   true|   true|   true|  false|     36|\n",
      "|ppl_100002|type 2| group 8688|type 3|2021-01-06 00:00:00|type 28| type 9|type 5|type 3|type 11|type 2|type 4|  false|  false|   true|   true|  false|  false|  false|   true|  false|  false|  false|  false|  false|   true|  false|   true|   true|   true|  false|  false|   true|   true|   true|   true|   true|   true|   true|  false|     76|\n",
      "|ppl_100003|type 2|group 33592|type 3|2022-06-10 00:00:00| type 4| type 8|type 5|type 2| type 5|type 2|type 2|   true|   true|   true|   true|   true|   true|  false|   true|  false|   true|  false|   true|   true|   true|   true|   true|   true|   true|   true|  false|  false|   true|   true|   true|   true|  false|   true|   true|     99|\n",
      "|ppl_100004|type 2|group 22593|type 3|2022-07-20 00:00:00|type 40|type 25|type 9|type 4|type 16|type 2|type 2|   true|   true|   true|   true|   true|  false|   true|   true|   true|   true|   true|   true|   true|   true|  false|   true|   true|   true|   true|   true|   true|   true|   true|   true|   true|   true|   true|   true|     76|\n",
      "|ppl_100006|type 2| group 6534|type 3|2022-07-27 00:00:00|type 40|type 25|type 9|type 3| type 8|type 2|type 2|  false|  false|  false|  false|  false|  false|  false|  false|  false|  false|  false|  false|  false|  false|  false|  false|  false|  false|  false|  false|  false|   true|  false|  false|  false|   true|   true|  false|     84|\n",
      "+----------+------+-----------+------+-------------------+-------+-------+------+------+-------+------+------+-------+-------+-------+-------+-------+-------+-------+-------+-------+-------+-------+-------+-------+-------+-------+-------+-------+-------+-------+-------+-------+-------+-------+-------+-------+-------+-------+-------+-------+\n",
      "only showing top 5 rows\n",
      "\n"
     ]
    }
   ],
   "source": [
    "df.show(5)"
   ]
  },
  {
   "cell_type": "code",
   "execution_count": 6,
   "metadata": {
    "collapsed": false
   },
   "outputs": [
    {
     "name": "stdout",
     "output_type": "stream",
     "text": [
      "root\n",
      " |-- people_id: string (nullable = true)\n",
      " |-- char_1: string (nullable = true)\n",
      " |-- group_1: string (nullable = true)\n",
      " |-- char_2: string (nullable = true)\n",
      " |-- date: timestamp (nullable = true)\n",
      " |-- char_3: string (nullable = true)\n",
      " |-- char_4: string (nullable = true)\n",
      " |-- char_5: string (nullable = true)\n",
      " |-- char_6: string (nullable = true)\n",
      " |-- char_7: string (nullable = true)\n",
      " |-- char_8: string (nullable = true)\n",
      " |-- char_9: string (nullable = true)\n",
      " |-- char_10: boolean (nullable = true)\n",
      " |-- char_11: boolean (nullable = true)\n",
      " |-- char_12: boolean (nullable = true)\n",
      " |-- char_13: boolean (nullable = true)\n",
      " |-- char_14: boolean (nullable = true)\n",
      " |-- char_15: boolean (nullable = true)\n",
      " |-- char_16: boolean (nullable = true)\n",
      " |-- char_17: boolean (nullable = true)\n",
      " |-- char_18: boolean (nullable = true)\n",
      " |-- char_19: boolean (nullable = true)\n",
      " |-- char_20: boolean (nullable = true)\n",
      " |-- char_21: boolean (nullable = true)\n",
      " |-- char_22: boolean (nullable = true)\n",
      " |-- char_23: boolean (nullable = true)\n",
      " |-- char_24: boolean (nullable = true)\n",
      " |-- char_25: boolean (nullable = true)\n",
      " |-- char_26: boolean (nullable = true)\n",
      " |-- char_27: boolean (nullable = true)\n",
      " |-- char_28: boolean (nullable = true)\n",
      " |-- char_29: boolean (nullable = true)\n",
      " |-- char_30: boolean (nullable = true)\n",
      " |-- char_31: boolean (nullable = true)\n",
      " |-- char_32: boolean (nullable = true)\n",
      " |-- char_33: boolean (nullable = true)\n",
      " |-- char_34: boolean (nullable = true)\n",
      " |-- char_35: boolean (nullable = true)\n",
      " |-- char_36: boolean (nullable = true)\n",
      " |-- char_37: boolean (nullable = true)\n",
      " |-- char_38: integer (nullable = true)\n",
      "\n"
     ]
    }
   ],
   "source": [
    "df.printSchema()"
   ]
  },
  {
   "cell_type": "code",
   "execution_count": 7,
   "metadata": {
    "collapsed": true
   },
   "outputs": [],
   "source": [
    "from pyspark.ml.regression import LinearRegression"
   ]
  },
  {
   "cell_type": "code",
   "execution_count": 8,
   "metadata": {
    "collapsed": true
   },
   "outputs": [],
   "source": [
    "training = spark.read.format('libsvm').load('hdfs://localhost:9000/Python/sample_linear_regression_data.txt')"
   ]
  },
  {
   "cell_type": "code",
   "execution_count": 9,
   "metadata": {
    "collapsed": false
   },
   "outputs": [
    {
     "name": "stdout",
     "output_type": "stream",
     "text": [
      "+-------------------+--------------------+\n",
      "|              label|            features|\n",
      "+-------------------+--------------------+\n",
      "| -9.490009878824548|(10,[0,1,2,3,4,5,...|\n",
      "| 0.2577820163584905|(10,[0,1,2,3,4,5,...|\n",
      "| -4.438869807456516|(10,[0,1,2,3,4,5,...|\n",
      "|-19.782762789614537|(10,[0,1,2,3,4,5,...|\n",
      "| -7.966593841555266|(10,[0,1,2,3,4,5,...|\n",
      "| -7.896274316726144|(10,[0,1,2,3,4,5,...|\n",
      "| -8.464803554195287|(10,[0,1,2,3,4,5,...|\n",
      "| 2.1214592666251364|(10,[0,1,2,3,4,5,...|\n",
      "| 1.0720117616524107|(10,[0,1,2,3,4,5,...|\n",
      "|-13.772441561702871|(10,[0,1,2,3,4,5,...|\n",
      "| -5.082010756207233|(10,[0,1,2,3,4,5,...|\n",
      "|  7.887786536531237|(10,[0,1,2,3,4,5,...|\n",
      "| 14.323146365332388|(10,[0,1,2,3,4,5,...|\n",
      "|-20.057482615789212|(10,[0,1,2,3,4,5,...|\n",
      "|-0.8995693247765151|(10,[0,1,2,3,4,5,...|\n",
      "| -19.16829262296376|(10,[0,1,2,3,4,5,...|\n",
      "|  5.601801561245534|(10,[0,1,2,3,4,5,...|\n",
      "|-3.2256352187273354|(10,[0,1,2,3,4,5,...|\n",
      "| 1.5299675726687754|(10,[0,1,2,3,4,5,...|\n",
      "| -0.250102447941961|(10,[0,1,2,3,4,5,...|\n",
      "+-------------------+--------------------+\n",
      "only showing top 20 rows\n",
      "\n"
     ]
    }
   ],
   "source": [
    "training.show()"
   ]
  },
  {
   "cell_type": "code",
   "execution_count": 10,
   "metadata": {
    "collapsed": false
   },
   "outputs": [
    {
     "name": "stdout",
     "output_type": "stream",
     "text": [
      "root\n",
      " |-- label: double (nullable = true)\n",
      " |-- features: vector (nullable = true)\n",
      "\n"
     ]
    }
   ],
   "source": [
    "training.printSchema()"
   ]
  },
  {
   "cell_type": "code",
   "execution_count": 11,
   "metadata": {
    "collapsed": false
   },
   "outputs": [
    {
     "name": "stdout",
     "output_type": "stream",
     "text": [
      "+-------+-------------------+\n",
      "|summary|              label|\n",
      "+-------+-------------------+\n",
      "|  count|                501|\n",
      "|   mean|0.25688882219498976|\n",
      "| stddev| 10.317884030544564|\n",
      "|    min|-28.571478869743427|\n",
      "|    max|  27.78383192005107|\n",
      "+-------+-------------------+\n",
      "\n"
     ]
    }
   ],
   "source": [
    "training.describe().show()"
   ]
  },
  {
   "cell_type": "code",
   "execution_count": 12,
   "metadata": {
    "collapsed": true
   },
   "outputs": [],
   "source": [
    "lr = LinearRegression(featuresCol='features',labelCol='label',predictionCol='prediction')"
   ]
  },
  {
   "cell_type": "code",
   "execution_count": 13,
   "metadata": {
    "collapsed": true
   },
   "outputs": [],
   "source": [
    "lrmodel = lr.fit(training)"
   ]
  },
  {
   "cell_type": "code",
   "execution_count": 14,
   "metadata": {
    "collapsed": false
   },
   "outputs": [
    {
     "data": {
      "text/plain": [
       "DenseVector([0.0073, 0.8314, -0.8095, 2.4412, 0.5192, 1.1535, -0.2989, -0.5129, -0.6197, 0.6956])"
      ]
     },
     "execution_count": 14,
     "metadata": {},
     "output_type": "execute_result"
    }
   ],
   "source": [
    "lrmodel.coefficients"
   ]
  },
  {
   "cell_type": "code",
   "execution_count": 15,
   "metadata": {
    "collapsed": false
   },
   "outputs": [
    {
     "data": {
      "text/plain": [
       "0.14228558260358093"
      ]
     },
     "execution_count": 15,
     "metadata": {},
     "output_type": "execute_result"
    }
   ],
   "source": [
    "lrmodel.intercept"
   ]
  },
  {
   "cell_type": "code",
   "execution_count": 16,
   "metadata": {
    "collapsed": true
   },
   "outputs": [],
   "source": [
    "training_summary = lrmodel.summary"
   ]
  },
  {
   "cell_type": "code",
   "execution_count": 17,
   "metadata": {
    "collapsed": false
   },
   "outputs": [
    {
     "data": {
      "text/plain": [
       "10.16309157133015"
      ]
     },
     "execution_count": 17,
     "metadata": {},
     "output_type": "execute_result"
    }
   ],
   "source": [
    "training_summary.rootMeanSquaredError"
   ]
  },
  {
   "cell_type": "code",
   "execution_count": 18,
   "metadata": {
    "collapsed": true
   },
   "outputs": [],
   "source": [
    "#splitting"
   ]
  },
  {
   "cell_type": "code",
   "execution_count": 19,
   "metadata": {
    "collapsed": true
   },
   "outputs": [],
   "source": [
    "all_data = spark.read.format('libsvm').load('hdfs://localhost:9000/Python/sample_linear_regression_data.txt')"
   ]
  },
  {
   "cell_type": "code",
   "execution_count": 24,
   "metadata": {
    "collapsed": false
   },
   "outputs": [],
   "source": [
    "train, test = all_data.randomSplit([0.7, 0.3])"
   ]
  },
  {
   "cell_type": "code",
   "execution_count": 29,
   "metadata": {
    "collapsed": false
   },
   "outputs": [
    {
     "name": "stdout",
     "output_type": "stream",
     "text": [
      "+-------+-------------------+\n",
      "|summary|              label|\n",
      "+-------+-------------------+\n",
      "|  count|                331|\n",
      "|   mean| -0.435887582296799|\n",
      "| stddev| 10.077456333344175|\n",
      "|    min|-28.046018037776633|\n",
      "|    max| 26.903524792043335|\n",
      "+-------+-------------------+\n",
      "\n"
     ]
    }
   ],
   "source": [
    "train.describe().show()"
   ]
  },
  {
   "cell_type": "code",
   "execution_count": 30,
   "metadata": {
    "collapsed": true
   },
   "outputs": [],
   "source": [
    "correct_model = lr.fit(train)"
   ]
  },
  {
   "cell_type": "code",
   "execution_count": 31,
   "metadata": {
    "collapsed": true
   },
   "outputs": [],
   "source": [
    "test_result = correct_model.evaluate(test)"
   ]
  },
  {
   "cell_type": "code",
   "execution_count": 33,
   "metadata": {
    "collapsed": false
   },
   "outputs": [
    {
     "name": "stdout",
     "output_type": "stream",
     "text": [
      "+-------------------+\n",
      "|          residuals|\n",
      "+-------------------+\n",
      "|-29.598604265419972|\n",
      "|-27.565841847668747|\n",
      "|-22.716528534415325|\n",
      "| -20.79513510802338|\n",
      "| -21.00987272984856|\n",
      "| -20.14328326746602|\n",
      "|-13.864185805011873|\n",
      "|-18.206390719694134|\n",
      "|-17.935029605052186|\n",
      "|-12.945150876663947|\n",
      "|-13.417112885767516|\n",
      "| -17.07627972351877|\n",
      "|-14.246864016291372|\n",
      "|-14.084604424143985|\n",
      "|-13.166162136197915|\n",
      "|  -11.8425504177029|\n",
      "|-10.177733096239225|\n",
      "|-12.328552464859245|\n",
      "|-11.057783721067905|\n",
      "| -14.46926540675872|\n",
      "+-------------------+\n",
      "only showing top 20 rows\n",
      "\n"
     ]
    }
   ],
   "source": [
    "test_result.residuals.show()"
   ]
  },
  {
   "cell_type": "code",
   "execution_count": 34,
   "metadata": {
    "collapsed": false
   },
   "outputs": [
    {
     "data": {
      "text/plain": [
       "10.879394942274107"
      ]
     },
     "execution_count": 34,
     "metadata": {},
     "output_type": "execute_result"
    }
   ],
   "source": [
    "test_result.rootMeanSquaredError"
   ]
  },
  {
   "cell_type": "code",
   "execution_count": 35,
   "metadata": {
    "collapsed": true
   },
   "outputs": [],
   "source": [
    "unlabeled_data = test.select('features')"
   ]
  },
  {
   "cell_type": "code",
   "execution_count": 36,
   "metadata": {
    "collapsed": false
   },
   "outputs": [
    {
     "name": "stdout",
     "output_type": "stream",
     "text": [
      "+--------------------+\n",
      "|            features|\n",
      "+--------------------+\n",
      "|(10,[0,1,2,3,4,5,...|\n",
      "|(10,[0,1,2,3,4,5,...|\n",
      "|(10,[0,1,2,3,4,5,...|\n",
      "|(10,[0,1,2,3,4,5,...|\n",
      "|(10,[0,1,2,3,4,5,...|\n",
      "|(10,[0,1,2,3,4,5,...|\n",
      "|(10,[0,1,2,3,4,5,...|\n",
      "|(10,[0,1,2,3,4,5,...|\n",
      "|(10,[0,1,2,3,4,5,...|\n",
      "|(10,[0,1,2,3,4,5,...|\n",
      "|(10,[0,1,2,3,4,5,...|\n",
      "|(10,[0,1,2,3,4,5,...|\n",
      "|(10,[0,1,2,3,4,5,...|\n",
      "|(10,[0,1,2,3,4,5,...|\n",
      "|(10,[0,1,2,3,4,5,...|\n",
      "|(10,[0,1,2,3,4,5,...|\n",
      "|(10,[0,1,2,3,4,5,...|\n",
      "|(10,[0,1,2,3,4,5,...|\n",
      "|(10,[0,1,2,3,4,5,...|\n",
      "|(10,[0,1,2,3,4,5,...|\n",
      "+--------------------+\n",
      "only showing top 20 rows\n",
      "\n"
     ]
    }
   ],
   "source": [
    "unlabeled_data.show()"
   ]
  },
  {
   "cell_type": "code",
   "execution_count": 37,
   "metadata": {
    "collapsed": true
   },
   "outputs": [],
   "source": [
    "prediction = correct_model.transform(unlabeled_data)"
   ]
  },
  {
   "cell_type": "code",
   "execution_count": 39,
   "metadata": {
    "collapsed": false
   },
   "outputs": [
    {
     "name": "stdout",
     "output_type": "stream",
     "text": [
      "+--------------------+--------------------+\n",
      "|            features|          prediction|\n",
      "+--------------------+--------------------+\n",
      "|(10,[0,1,2,3,4,5,...|  1.0271253956765463|\n",
      "|(10,[0,1,2,3,4,5,...|  0.7603584191856749|\n",
      "|(10,[0,1,2,3,4,5,...| -0.7943555559076456|\n",
      "|(10,[0,1,2,3,4,5,...| -2.6923050129131303|\n",
      "|(10,[0,1,2,3,4,5,...|  1.1368816917801534|\n",
      "|(10,[0,1,2,3,4,5,...| 0.36052047785148417|\n",
      "|(10,[0,1,2,3,4,5,...|   -3.63001455187147|\n",
      "|(10,[0,1,2,3,4,5,...|  2.0550413684170232|\n",
      "|(10,[0,1,2,3,4,5,...|   2.073020277481627|\n",
      "|(10,[0,1,2,3,4,5,...| -2.3896166032583945|\n",
      "|(10,[0,1,2,3,4,5,...| -1.8938677036487737|\n",
      "|(10,[0,1,2,3,4,5,...|  2.0197967489763364|\n",
      "|(10,[0,1,2,3,4,5,...| -0.5752888934598176|\n",
      "|(10,[0,1,2,3,4,5,...|-0.24437408493145857|\n",
      "|(10,[0,1,2,3,4,5,...| -0.7009257589608522|\n",
      "|(10,[0,1,2,3,4,5,...|-0.35554614695851183|\n",
      "|(10,[0,1,2,3,4,5,...| -1.9526201160487047|\n",
      "|(10,[0,1,2,3,4,5,...| 0.23420118632398573|\n",
      "|(10,[0,1,2,3,4,5,...| -0.7995666443615203|\n",
      "|(10,[0,1,2,3,4,5,...|  2.8534901417430927|\n",
      "+--------------------+--------------------+\n",
      "only showing top 20 rows\n",
      "\n"
     ]
    }
   ],
   "source": [
    "prediction.show()"
   ]
  },
  {
   "cell_type": "code",
   "execution_count": null,
   "metadata": {
    "collapsed": true
   },
   "outputs": [],
   "source": []
  }
 ],
 "metadata": {
  "kernelspec": {
   "display_name": "Python 3",
   "language": "python",
   "name": "python3"
  },
  "language_info": {
   "codemirror_mode": {
    "name": "ipython",
    "version": 3
   },
   "file_extension": ".py",
   "mimetype": "text/x-python",
   "name": "python",
   "nbconvert_exporter": "python",
   "pygments_lexer": "ipython3",
   "version": "3.6.3"
  }
 },
 "nbformat": 4,
 "nbformat_minor": 2
}
